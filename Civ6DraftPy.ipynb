{
 "cells": [
  {
   "cell_type": "code",
   "execution_count": null,
   "id": "c54c6d52",
   "metadata": {},
   "outputs": [],
   "source": []
  },
  {
   "cell_type": "code",
   "execution_count": null,
   "id": "afdad824",
   "metadata": {},
   "outputs": [],
   "source": []
  },
  {
   "cell_type": "code",
   "execution_count": null,
   "id": "84904158",
   "metadata": {},
   "outputs": [],
   "source": []
  },
  {
   "cell_type": "code",
   "execution_count": null,
   "id": "4ecb8dcf",
   "metadata": {},
   "outputs": [],
   "source": [
    "def main():\n",
    "    # Код здесь\n",
    " \n",
    "if __name__ == \"__main__\":\n",
    "    main()"
   ]
  },
  {
   "cell_type": "code",
   "execution_count": 66,
   "id": "ec0d6bb4",
   "metadata": {},
   "outputs": [],
   "source": [
    "class LeaderClass:\n",
    "\n",
    "    #атрибуты лидеров, имя, специализация, нация, можно будет добавить еще роль и тд\n",
    "    def __init__(self, name, spec, nation):\n",
    "        self.name = name      # имя лидера\n",
    "        self.spec = spec      # специализация лидера\n",
    "        self.nation = nation  # нация\n",
    "       \n",
    "    #прекол для сериализации\n",
    "    def to_dict(self):\n",
    "        return self.__dict__\n",
    "        \n",
    "        \n",
    "#прекол для сериализации\n",
    "def class_to_dict(obj):\n",
    "    return obj.__dict__\n",
    "        "
   ]
  },
  {
   "cell_type": "code",
   "execution_count": 101,
   "id": "7e383252",
   "metadata": {},
   "outputs": [],
   "source": [
    "import json\n",
    "from types import SimpleNamespace\n",
    "\n",
    "\n",
    "import json\n",
    " \n",
    "# Opening JSON file\n",
    "f = open('nations.json')\n",
    " \n",
    "# returns JSON object as \n",
    "# a dictionary\n",
    "leader_data = json.load(f)\n",
    " \n",
    "# Closing file\n",
    "f.close()\n",
    "\n",
    "\n",
    "nations = [LeaderClass(leader['name'], leader['spec'], leader['nation']) for leader in leader_data]"
   ]
  },
  {
   "cell_type": "code",
   "execution_count": 105,
   "id": "cde17a28",
   "metadata": {},
   "outputs": [
    {
     "data": {
      "text/plain": [
       "[['Пётр Великий', 'Россия'],\n",
       " ['Алиенора Аквитанская', ['Англия', 'Франция']],\n",
       " ['Виктория ', 'Англия'],\n",
       " ['Екатерина Медичи', 'Франция'],\n",
       " ['Траян', 'Рим'],\n",
       " ['Фридрих Барбаросса', 'Германия'],\n",
       " ['Теодор Рузвельт', 'Америка'],\n",
       " ['Ганди', 'Индия'],\n",
       " ['Чандрагупта', 'Индия'],\n",
       " ['Томирис', 'Скифия'],\n",
       " ['Перикл', 'Греция'],\n",
       " ['Горго', 'Греция'],\n",
       " ['Цинь Шихуанди', 'Китай'],\n",
       " ['Хубилай', ['Китай', 'Монголия']],\n",
       " ['Клеопатра', 'Египет'],\n",
       " ['Монтесума', 'Ацтеки'],\n",
       " ['Педру II', 'Бразилия'],\n",
       " ['Филипп II', 'Испания'],\n",
       " ['Ходзё Токимунэ', 'Япония'],\n",
       " ['Мвемба а Нзинга', 'Конго'],\n",
       " ['Саладин', 'Аравия'],\n",
       " ['Харальд Суровый', 'Норвегия'],\n",
       " ['Гильгамеш', 'Шумер'],\n",
       " ['Ядвига', 'Польша'],\n",
       " ['Джон Кэртин', 'Австралия'],\n",
       " ['Кир', 'Персия'],\n",
       " ['Александр', 'Македония'],\n",
       " ['Аманиторе', 'Нубия'],\n",
       " ['Трибхувана', 'Индонезия'],\n",
       " ['Джайаварман VII', 'Кхемры'],\n",
       " ['Сондок', 'Корея'],\n",
       " ['Вильгельмина', 'Нидерланды'],\n",
       " ['Чингисхан', 'Монголия'],\n",
       " ['Паундмейкер', 'Кри'],\n",
       " ['Тамара', 'Грузия'],\n",
       " ['Роберт Брюс', 'Шотландия'],\n",
       " ['Лаутаро', 'Мапуче'],\n",
       " ['Чака', 'Зулусы'],\n",
       " ['Матьяш I', 'Венгрия'],\n",
       " ['Купе', 'Маори'],\n",
       " ['Уилфрид Лорье', 'Канада'],\n",
       " ['Пачакутек', 'Инки'],\n",
       " ['Манса Муса', 'Мали'],\n",
       " ['Кристина', 'Швеция'],\n",
       " ['Сулейман', 'Османы'],\n",
       " ['Дидона', 'Финикия'],\n",
       " ['Иш-Вак-Чан-Ахав', 'Майа'],\n",
       " ['Симон Боливар', 'Великая Колумбия'],\n",
       " ['Менелик II', 'Эфиопия'],\n",
       " ['Василий II', 'Византия'],\n",
       " ['Амбиорикс', 'Галлия'],\n",
       " ['Хаммурапи', 'Вавилон'],\n",
       " ['Чьеу Тхи Чинь', 'Вьетнам'],\n",
       " ['Жуан III', 'Португалия']]"
      ]
     },
     "execution_count": 105,
     "metadata": {},
     "output_type": "execute_result"
    }
   ],
   "source": [
    "[[leader.name, leader.nation] for leader in nations]"
   ]
  },
  {
   "cell_type": "code",
   "execution_count": 6,
   "id": "c58e5b5a",
   "metadata": {},
   "outputs": [
    {
     "ename": "NameError",
     "evalue": "name 'data' is not defined",
     "output_type": "error",
     "traceback": [
      "\u001b[1;31m---------------------------------------------------------------------------\u001b[0m",
      "\u001b[1;31mNameError\u001b[0m                                 Traceback (most recent call last)",
      "\u001b[1;32m~\\AppData\\Local\\Temp\\ipykernel_2852\\1088323387.py\u001b[0m in \u001b[0;36m<module>\u001b[1;34m\u001b[0m\n\u001b[1;32m----> 1\u001b[1;33m \u001b[0mdata\u001b[0m\u001b[1;33m(\u001b[0m\u001b[0mnations\u001b[0m\u001b[1;33m)\u001b[0m\u001b[1;33m\u001b[0m\u001b[1;33m\u001b[0m\u001b[0m\n\u001b[0m",
      "\u001b[1;31mNameError\u001b[0m: name 'data' is not defined"
     ]
    }
   ],
   "source": [
    "data(nations)"
   ]
  },
  {
   "cell_type": "code",
   "execution_count": null,
   "id": "8ab9be83",
   "metadata": {},
   "outputs": [],
   "source": []
  },
  {
   "cell_type": "code",
   "execution_count": null,
   "id": "38cc72a7",
   "metadata": {},
   "outputs": [],
   "source": []
  }
 ],
 "metadata": {
  "kernelspec": {
   "display_name": "Python 3 (ipykernel)",
   "language": "python",
   "name": "python3"
  },
  "language_info": {
   "codemirror_mode": {
    "name": "ipython",
    "version": 3
   },
   "file_extension": ".py",
   "mimetype": "text/x-python",
   "name": "python",
   "nbconvert_exporter": "python",
   "pygments_lexer": "ipython3",
   "version": "3.9.13"
  }
 },
 "nbformat": 4,
 "nbformat_minor": 5
}
